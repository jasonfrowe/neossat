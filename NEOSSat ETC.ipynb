{
 "cells": [
  {
   "cell_type": "code",
   "execution_count": 1,
   "metadata": {},
   "outputs": [
    {
     "name": "stderr",
     "output_type": "stream",
     "text": [
      "WARNING: AstropyDeprecationWarning: \"iters\" was deprecated in version 3.1 and will be removed in a future version. Use argument \"maxiters\" instead. [photutils.background.core]\n",
      "WARNING: AstropyDeprecationWarning: \"iters\" was deprecated in version 3.1 and will be removed in a future version. Use argument \"maxiters\" instead. [photutils.background.core]\n",
      "WARNING: AstropyDeprecationWarning: \"iters\" was deprecated in version 3.1 and will be removed in a future version. Use argument \"maxiters\" instead. [photutils.background.background_2d]\n",
      "WARNING: AstropyDeprecationWarning: Composition of model classes will be removed in 4.0 (but composition of model instances is not affected) [astropy.modeling.core]\n"
     ]
    }
   ],
   "source": [
    "import numpy as np #We will make extensive use of Numpy arrays \n",
    "from numpy.fft import fft2, ifft2 #for convolution work\n",
    "\n",
    "from photutils import CircularAperture,aperture_photometry\n",
    "import scipy.signal as signal\n",
    "\n",
    "import matplotlib  #ploting\n",
    "matplotlib.use(\"Agg\")  #some hack to stop the bouncing python icon when plotting of os/x\n",
    "import matplotlib.pyplot as plt\n",
    "%matplotlib inline\n",
    "\n",
    "matplotlib.rcParams.update({'font.size': 24}) #adjust font"
   ]
  },
  {
   "cell_type": "code",
   "execution_count": 17,
   "metadata": {},
   "outputs": [],
   "source": [
    "def calc_noise(flux,exptime,gain=1.1,readnoise=8.0,photap=1.0,darknoise=1.25):\n",
    "    \n",
    "    #flux : total flux inside photometric aperture (e-)\n",
    "    #exptime : gives the exposure time (s)\n",
    "    #gain : (e- ADU^-1)\n",
    "    #readnoise : (e-)\n",
    "    #photap : number of pixels in photometric aperture (pixels)\n",
    "    #darknoise : (e- s^-1)\n",
    "    \n",
    "    shotnoise=np.sqrt(flux) #Shot noise\n",
    "    detectnoise=np.sqrt(np.pi*photap*photap)*(readnoise+darknoise*exptime)\n",
    "    predictnoise=np.sqrt(shotnoise*shotnoise+detectnoise*detectnoise)\n",
    "    \n",
    "    return predictnoise"
   ]
  },
  {
   "cell_type": "code",
   "execution_count": 3,
   "metadata": {},
   "outputs": [],
   "source": [
    "def fstarcalc(gmag,stype=0):\n",
    "    \n",
    "    #g-magnitude (GAIA)\n",
    "    #stype : 0 = G2V star, 1 = K5V star, 2 = M5V star\n",
    "    #returns the number of e- s-1 that reaches the detector (after all optical losses)\n",
    "    \n",
    "    if stype==0:  #G2V\n",
    "        fzero=1.601E+05\n",
    "    elif stype==1: #K5V\n",
    "        fzero=2.406E+05\n",
    "    elif stype==2: #M5V\n",
    "        fzero=3.335E+05\n",
    "    else:\n",
    "        fzero=1.601E+05 #default to Sun-like star\n",
    "    \n",
    "    fstar=np.power(10,(7.5-gmag)/2.5)*fzero\n",
    "    \n",
    "    return fstar"
   ]
  },
  {
   "cell_type": "code",
   "execution_count": 5,
   "metadata": {},
   "outputs": [],
   "source": [
    "def genKernel(nKs,noversample,sx,sy,sxy):\n",
    "    \n",
    "    Kernel=np.zeros((nKs,nKs))\n",
    "    \n",
    "    xc=int(nKs/2+0.5) #center of PSF\n",
    "    yc=int(nKs/2+0.5)\n",
    "\n",
    "    \n",
    "    for i in range(nKs):\n",
    "        xd=(i-xc)/noversample #distance from centre of PSF\n",
    "        for j in range(nKs):\n",
    "            yd=(j-yc)/noversample\n",
    "            expt1=-((xd/sx)**2.0)\n",
    "            expt2=-((yd/sy)**2.0)\n",
    "            expt3=2.0*sxy*(xd*yd)/(sx*sy)\n",
    "            Kernel[i,j]=np.exp(expt1+expt2+expt3)\n",
    "    Kernel=Kernel/np.sum(Kernel) #normalize\n",
    "    return Kernel;"
   ]
  },
  {
   "cell_type": "code",
   "execution_count": 6,
   "metadata": {},
   "outputs": [],
   "source": [
    "def fft_convolve2d(x,y):\n",
    "    \"\"\" 2D convolution, using FFT\"\"\"\n",
    "    fr = fft2(x)\n",
    "    fr2 = fft2(np.flipud(np.fliplr(y)))\n",
    "    m,n = fr.shape\n",
    "    cc = np.real(ifft2(fr*fr2))\n",
    "    cc = np.roll(cc, int(-m/2+1),axis=0)\n",
    "    cc = np.roll(cc, int(-n/2+1),axis=1)\n",
    "    return cc"
   ]
  },
  {
   "cell_type": "code",
   "execution_count": 7,
   "metadata": {},
   "outputs": [],
   "source": [
    "def binimage(pixels_c,xmax,ymax,noversample):\n",
    "\n",
    "    xsub=int(xmax/noversample)\n",
    "    ysub=int(ymax/noversample)\n",
    "    pixels_n=np.zeros((xsub,ysub))\n",
    "    for i in range(0,xmax,noversample):\n",
    "        for j in range(0,ymax,noversample):\n",
    "            #print(i,i+noversample,j,j+noversample)\n",
    "            ni=int(i/noversample)\n",
    "            nj=int(j/noversample)\n",
    "            #print(ni,nj)\n",
    "            pixels_n[ni,nj]=np.sum(pixels_c[i:i+noversample,j:j+noversample])\n",
    "            #print(pixels_n[ni,nj])\n",
    "            #input()\n",
    "    return pixels_n;"
   ]
  },
  {
   "cell_type": "code",
   "execution_count": 4,
   "metadata": {},
   "outputs": [],
   "source": [
    "#Simulation parameters\n",
    "\n",
    "exptime=2.0        #exposure time in seconds\n",
    "gmag=8.0           #g-magnitude of star (GAIA)\n",
    "stype=0            #stellar type.  0=G2V,1=K5V,2=M5V\n",
    "\n",
    "gain=1.1           #gain (e-/ADU)\n",
    "readnoise=8.0      #read noise (e-)\n",
    "darknoise=1.25     #dark current (e- s-1 pix-1)\n",
    "\n",
    "photap=4.0         #photometric aperture (pixels)\n",
    "sx=3.0           #PSF Gaussian width (pixels)\n",
    "sy=3.0           #PSF Gaussian width (pixels)\n",
    "sxy=0.0          #xy width (non-circular)\n",
    "subraster=128     #size of subraster for simulation (pixels)\n",
    "noversample=8     #oversampling parameter to reduce digital artifacts"
   ]
  },
  {
   "cell_type": "code",
   "execution_count": 24,
   "metadata": {},
   "outputs": [
    {
     "data": {
      "image/png": "[encoded data removed]",
      "text/plain": [
       "<Figure size 864x864 with 1 Axes>"
      ]
     },
     "metadata": {},
     "output_type": "display_data"
    },
    {
     "name": "stdout",
     "output_type": "stream",
     "text": [
      "Exposure Time (s):            2.0\n",
      "Star g-mag:                   8.0\n",
      "Flux reaching detector (ADU): 183665.95\n",
      "Max Pixel Value (ADU):        6373.48\n",
      "Flux inside aperture:         146955.80\n",
      "Photometric noise (ADU):      414.18\n",
      "Estimated SNR:                443.44\n"
     ]
    }
   ],
   "source": [
    "fstar=fstarcalc(gmag,stype=stype)  #get flux from detector (e- s^-1)\n",
    "flux=fstar*exptime\n",
    "\n",
    "#Create Array for Simulation\n",
    "xmax=subraster*noversample;ymax=subraster*noversample\n",
    "pixels=np.zeros((xmax,ymax)) #will hold unconvolved pixel map\n",
    "nKs=xmax #natural size of Kernels times oversampling\n",
    "xcoo=xmax/2+noversample*np.random.rand() #centroid for object. Near center with random 1 natural pixel jitter\n",
    "ycoo=ymax/2+noversample*np.random.rand() #centroid for object. Near center with random 1 natural pixel jitter\n",
    "\n",
    "#Add flux to oversampled grid\n",
    "pixels[int(xcoo),int(xcoo)]=np.copy(flux)\n",
    "\n",
    "#create convolution Kernel\n",
    "Kernel=genKernel(nKs,noversample,sx,sy,sxy)\n",
    "\n",
    "#Convolve oversampled image with PSF (Kernel)\n",
    "pixels_c=fft_convolve2d(pixels,Kernel)\n",
    "\n",
    "#bin down to native resolution\n",
    "pixels_n=binimage(pixels_c,xmax,ymax,noversample)\n",
    "\n",
    "#Extract Photometry with circular aperture\n",
    "positions = [(xcoo/noversample, ycoo/noversample)]\n",
    "aperture = CircularAperture(positions, r=photap)\n",
    "phot_table = aperture_photometry(pixels_n, aperture)\n",
    "\n",
    "#Estimate noise inside photometry aperture\n",
    "noise=calc_noise(flux,exptime,gain=gain,readnoise=readnoise,photap=photap,darknoise=darknoise)\n",
    "\n",
    "plt.figure(figsize=(12,12)) #adjust size of figure\n",
    "plt.imshow(pixels_n)\n",
    "plt.show()\n",
    "\n",
    "#Print some stats\n",
    "print('Exposure Time (s):           ',exptime)\n",
    "print('Star g-mag:                  ',gmag)\n",
    "print('Flux reaching detector (ADU):', \"{:.2f}\".format(flux/gain))\n",
    "print('Max Pixel Value (ADU):       ',\"{:.2f}\".format(np.max(pixels_n/gain)))\n",
    "print('Flux inside aperture:        ',\"{:.2f}\".format(np.float(phot_table['aperture_sum'][0])/gain))\n",
    "print('Photometric noise (ADU):     ',\"{:.2f}\".format(noise/gain))\n",
    "print('Estimated SNR:               ',\"{:.2f}\".format(flux/noise))"
   ]
  },
  {
   "cell_type": "code",
   "execution_count": null,
   "metadata": {},
   "outputs": [],
   "source": []
  }
 ],
 "metadata": {
  "kernelspec": {
   "display_name": "Python 3",
   "language": "python",
   "name": "python3"
  },
  "language_info": {
   "codemirror_mode": {
    "name": "ipython",
    "version": 3
   },
   "file_extension": ".py",
   "mimetype": "text/x-python",
   "name": "python",
   "nbconvert_exporter": "python",
   "pygments_lexer": "ipython3",
   "version": "3.6.8"
  }
 },
 "nbformat": 4,
 "nbformat_minor": 2
}
